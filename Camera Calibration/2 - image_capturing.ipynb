{
 "cells": [
  {
   "cell_type": "markdown",
   "metadata": {},
   "source": [
    "# Image capturing"
   ]
  },
  {
   "cell_type": "code",
   "execution_count": 1,
   "metadata": {},
   "outputs": [],
   "source": [
    "# import the opencv library\n",
    "import cv2\n",
    "import numpy as np\n",
    "import os"
   ]
  },
  {
   "cell_type": "code",
   "execution_count": 2,
   "metadata": {},
   "outputs": [
    {
     "name": "stdout",
     "output_type": "stream",
     "text": [
      "640 360\n"
     ]
    }
   ],
   "source": [
    "# Check maximum resolution\n",
    "HIGH_VALUE = 10000\n",
    "WIDTH = HIGH_VALUE\n",
    "HEIGHT = HIGH_VALUE\n",
    "\n",
    "capture = cv2.VideoCapture(0)\n",
    "fourcc = cv2.VideoWriter_fourcc(*'XVID')\n",
    "capture.set(cv2.CAP_PROP_FRAME_WIDTH, WIDTH)\n",
    "capture.set(cv2.CAP_PROP_FRAME_HEIGHT, HEIGHT)\n",
    "width = int(capture.get(cv2.CAP_PROP_FRAME_WIDTH))\n",
    "height = int(capture.get(cv2.CAP_PROP_FRAME_HEIGHT))\n",
    "\n",
    "print(width,height)\n",
    "# Check maximum resolution"
   ]
  },
  {
   "cell_type": "code",
   "execution_count": 8,
   "metadata": {},
   "outputs": [],
   "source": [
    "imgdir = \"./calib_cam_1/02_08/\"\n",
    "\n",
    "# Check whether the specified path exists or not\n",
    "isExist = os.path.exists(imgdir)\n",
    "\n",
    "if not isExist:\n",
    "  os.makedirs(imgdir)"
   ]
  },
  {
   "cell_type": "code",
   "execution_count": 3,
   "metadata": {},
   "outputs": [],
   "source": [
    "gts_launch_command_1 = \"gst-launch-1.0 v4l2src device=/dev/video0 ! video/x-raw, format=YUY2 ! videoconvert ! videoscale ! videorate ! video/x-raw,width=1920,height=1080,framerate=60/1 ! ximagesink -v\"\n",
    "gts_launch_command_2 = \"gst-launch-1.0 -v v4l2src device=/dev/video0 ! video/x-raw, format=YUY2 ! videoconvert ! video/x-raw, format=BGR ! appsink drop=1\""
   ]
  },
  {
   "cell_type": "code",
   "execution_count": 9,
   "metadata": {},
   "outputs": [],
   "source": [
    "use_gstreamer = False\n",
    "\n",
    "if use_gstreamer:\n",
    "    cap = cv2.VideoCapture(\"v4l2src device=/dev/video0 ! video/x-raw, format=YUY2 ! videoconvert ! video/x-raw, format=BGR ! appsink drop=1\")\n",
    "else:\n",
    "     cap = cv2.VideoCapture(0)"
   ]
  },
  {
   "cell_type": "code",
   "execution_count": 10,
   "metadata": {},
   "outputs": [
    {
     "name": "stdout",
     "output_type": "stream",
     "text": [
      "saving0.png\n",
      "saving1.png\n",
      "saving2.png\n",
      "saving3.png\n",
      "saving4.png\n",
      "saving5.png\n",
      "saving6.png\n",
      "saving7.png\n",
      "saving8.png\n",
      "saving9.png\n",
      "saving10.png\n",
      "saving11.png\n",
      "saving12.png\n",
      "saving13.png\n",
      "saving14.png\n",
      "saving15.png\n",
      "saving16.png\n",
      "saving17.png\n",
      "saving18.png\n",
      "saving19.png\n",
      "saving20.png\n",
      "saving21.png\n",
      "saving22.png\n",
      "saving23.png\n",
      "saving24.png\n",
      "saving25.png\n",
      "saving26.png\n",
      "saving27.png\n",
      "saving28.png\n",
      "saving29.png\n",
      "saving30.png\n",
      "saving31.png\n",
      "saving32.png\n",
      "saving33.png\n",
      "saving34.png\n",
      "saving35.png\n",
      "saving36.png\n",
      "saving37.png\n",
      "saving38.png\n",
      "saving39.png\n",
      "saving40.png\n",
      "saving41.png\n",
      "saving42.png\n",
      "saving43.png\n",
      "saving44.png\n",
      "saving45.png\n",
      "saving46.png\n",
      "saving47.png\n",
      "saving48.png\n",
      "saving49.png\n",
      "saving50.png\n",
      "saving51.png\n",
      "saving52.png\n",
      "saving53.png\n",
      "saving54.png\n",
      "saving55.png\n",
      "saving56.png\n",
      "saving57.png\n",
      "saving58.png\n",
      "saving59.png\n",
      "saving60.png\n",
      "saving61.png\n",
      "saving62.png\n",
      "saving63.png\n",
      "saving64.png\n",
      "saving65.png\n",
      "saving66.png\n",
      "saving67.png\n",
      "saving68.png\n",
      "saving69.png\n",
      "saving70.png\n",
      "saving71.png\n",
      "saving72.png\n",
      "saving73.png\n",
      "saving74.png\n",
      "saving75.png\n",
      "saving76.png\n",
      "saving77.png\n",
      "saving78.png\n",
      "saving79.png\n",
      "saving80.png\n",
      "saving81.png\n",
      "saving82.png\n",
      "saving83.png\n",
      "saving84.png\n",
      "saving85.png\n",
      "saving86.png\n",
      "saving87.png\n",
      "saving88.png\n",
      "saving89.png\n",
      "saving90.png\n",
      "saving91.png\n",
      "saving92.png\n",
      "saving93.png\n",
      "saving94.png\n",
      "saving95.png\n",
      "saving96.png\n",
      "saving97.png\n",
      "saving98.png\n",
      "saving99.png\n",
      "saving100.png\n",
      "saving101.png\n",
      "saving102.png\n",
      "saving103.png\n",
      "saving104.png\n",
      "saving105.png\n",
      "saving106.png\n",
      "saving107.png\n",
      "saving108.png\n",
      "saving109.png\n",
      "saving110.png\n",
      "saving111.png\n",
      "saving112.png\n"
     ]
    }
   ],
   "source": [
    "img_counter = 0\n",
    "\n",
    "if not cap.isOpened():\n",
    "    print(\"Cannot open camera\")\n",
    "    exit()\n",
    "while True:\n",
    "    # Capture frame-by-frame\n",
    "    ret, frame = cap.read()\n",
    "    # if frame is read correctly ret is True\n",
    "    if not ret:\n",
    "        print(\"Can't receive frame (stream end?). Exiting ...\")\n",
    "        break\n",
    "    # Our operations on the frame come here\n",
    "    gray = cv2.cvtColor(frame, cv2.COLOR_BGR2GRAY)\n",
    "    if cv2.waitKey(1) == ord('q'):\n",
    "        break\n",
    "\n",
    "    # Display the resulting frame\n",
    "    cv2.imshow('frame', frame)\n",
    "    \n",
    "    if cv2.waitKey(1) == ord('s'):\n",
    "        print(f'saving{img_counter}.png')\n",
    "        cv2.imwrite(f\"{imgdir}{img_counter}.png\", frame)\n",
    "        img_counter = img_counter + 1\n",
    "    if cv2.waitKey(1) == ord('q'):\n",
    "        break\n",
    "\n",
    "        \n",
    "# When everything done, release the capture\n",
    "cap.release()\n",
    "cv2.destroyAllWindows()"
   ]
  }
 ],
 "metadata": {
  "kernelspec": {
   "display_name": "Python 3.10.4 ('stereo-vision')",
   "language": "python",
   "name": "python3"
  },
  "language_info": {
   "codemirror_mode": {
    "name": "ipython",
    "version": 3
   },
   "file_extension": ".py",
   "mimetype": "text/x-python",
   "name": "python",
   "nbconvert_exporter": "python",
   "pygments_lexer": "ipython3",
   "version": "3.10.4"
  },
  "orig_nbformat": 4,
  "vscode": {
   "interpreter": {
    "hash": "3b7a08846d4f9c4071fa9d7c59505ad882017f2780c08db9154b17b0c24d1b7b"
   }
  }
 },
 "nbformat": 4,
 "nbformat_minor": 2
}
