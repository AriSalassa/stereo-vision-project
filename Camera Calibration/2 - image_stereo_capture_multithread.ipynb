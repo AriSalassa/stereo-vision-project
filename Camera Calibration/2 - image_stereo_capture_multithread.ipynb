{
 "cells": [
  {
   "cell_type": "markdown",
   "metadata": {},
   "source": [
    "# Image capturing"
   ]
  },
  {
   "cell_type": "code",
   "execution_count": 2,
   "metadata": {},
   "outputs": [],
   "source": [
    "# import the opencv library\n",
    "import cv2\n",
    "import numpy as np\n",
    "import os\n",
    "import threading"
   ]
  },
  {
   "cell_type": "code",
   "execution_count": 3,
   "metadata": {},
   "outputs": [
    {
     "name": "stdout",
     "output_type": "stream",
     "text": [
      "Camera indexes: [0, 1]\n"
     ]
    }
   ],
   "source": [
    "def returnCameraIndexes():\n",
    "    # checks the first 10 indexes.\n",
    "    index = 0\n",
    "    arr = []\n",
    "    i = 10\n",
    "    while i > 0:\n",
    "        cap = cv2.VideoCapture(index)\n",
    "        if cap.read()[0]:\n",
    "            arr.append(index)\n",
    "            cap.release()\n",
    "        index += 1\n",
    "        i -= 1\n",
    "    return arr\n",
    "\n",
    "indices = returnCameraIndexes()\n",
    "print(f\"Camera indexes: {indices}\")"
   ]
  },
  {
   "cell_type": "code",
   "execution_count": 4,
   "metadata": {},
   "outputs": [
    {
     "name": "stdout",
     "output_type": "stream",
     "text": [
      "Camera 0: 1920,1080\n",
      "Camera 1: 1920,1080\n"
     ]
    }
   ],
   "source": [
    "# Check maximum resolution\n",
    "HIGH_VALUE = 10000\n",
    "WIDTH = HIGH_VALUE\n",
    "HEIGHT = HIGH_VALUE\n",
    "\n",
    "capture = cv2.VideoCapture(indices[0]) # Right camera\n",
    "fourcc = cv2.VideoWriter_fourcc(*'XVID')\n",
    "capture.set(cv2.CAP_PROP_FRAME_WIDTH, WIDTH)\n",
    "capture.set(cv2.CAP_PROP_FRAME_HEIGHT, HEIGHT)\n",
    "width = int(capture.get(cv2.CAP_PROP_FRAME_WIDTH))\n",
    "height = int(capture.get(cv2.CAP_PROP_FRAME_HEIGHT))\n",
    "capture.release()\n",
    "\n",
    "print(f\"Camera 0: {width},{height}\")\n",
    "\n",
    "# Check maximum resolution\n",
    "HIGH_VALUE = 10000\n",
    "WIDTH = HIGH_VALUE\n",
    "HEIGHT = HIGH_VALUE\n",
    "\n",
    "capture = cv2.VideoCapture(indices[1]) # Left camera \n",
    "fourcc = cv2.VideoWriter_fourcc(*'XVID')\n",
    "capture.set(cv2.CAP_PROP_FRAME_WIDTH, WIDTH)\n",
    "capture.set(cv2.CAP_PROP_FRAME_HEIGHT, HEIGHT)\n",
    "width = int(capture.get(cv2.CAP_PROP_FRAME_WIDTH))\n",
    "height = int(capture.get(cv2.CAP_PROP_FRAME_HEIGHT))\n",
    "capture.release()\n",
    "\n",
    "print(f\"Camera 1: {width},{height}\")\n",
    "# Check maximum resolution"
   ]
  },
  {
   "cell_type": "code",
   "execution_count": 4,
   "metadata": {},
   "outputs": [],
   "source": [
    "imgdir_r = \"./calib_cam/right/\"\n",
    "\n",
    "# Check whether the specified path exists or not\n",
    "isExist = os.path.exists(imgdir_r)\n",
    "\n",
    "if not isExist:\n",
    "  os.makedirs(imgdir_r)\n",
    "\n",
    "imgdir_l = \"./calib_cam/left/\"\n",
    "\n",
    "# Check whether the specified path exists or not\n",
    "isExist = os.path.exists(imgdir_l)\n",
    "\n",
    "if not isExist:\n",
    "  os.makedirs(imgdir_l)"
   ]
  },
  {
   "cell_type": "code",
   "execution_count": 5,
   "metadata": {},
   "outputs": [],
   "source": [
    "def camPreview(previewName, camID, imgdir):\n",
    "    cv2.namedWindow(previewName)\n",
    "    cap = cv2.VideoCapture(camID)\n",
    "\n",
    "    img_counter = 0\n",
    "\n",
    "    # if not cap.isOpened():\n",
    "    #     print(\"Cannot open camera\")\n",
    "    #     exit()\n",
    "\n",
    "    if cap.isOpened():  # try to get the first frame\n",
    "        ret, frame = cap.read()\n",
    "    else:\n",
    "        ret = False\n",
    "\n",
    "    while ret:\n",
    "        # Display the resulting frame\n",
    "        cv2.imshow(previewName, frame)\n",
    "\n",
    "        # Capture frame-by-frame\n",
    "        ret, frame = cap.read()\n",
    "        \n",
    "        # if frame is read correctly ret is True\n",
    "        if not ret:\n",
    "            print(f\"Can't receive frame {camID} (stream end?). Exiting ...\")\n",
    "            break\n",
    "\n",
    "        if cv2.waitKey(1) == ord('q'):\n",
    "            break\n",
    "\n",
    "        if cv2.waitKey(1) == ord('s'):\n",
    "            print(f'Cam {camID} saving{img_counter}.png')\n",
    "            cv2.imwrite(f\"{imgdir}{img_counter}.png\", frame)\n",
    "            img_counter = img_counter + 1\n",
    "\n",
    "        if cv2.waitKey(1) == ord('q'):\n",
    "            break\n",
    "\n",
    "            \n",
    "    # When everything done, release the capture\n",
    "    cap.release()\n",
    "    cv2.destroyAllWindows()"
   ]
  },
  {
   "cell_type": "code",
   "execution_count": 6,
   "metadata": {},
   "outputs": [],
   "source": [
    "class camThread(threading.Thread):\n",
    "    def __init__(self, previewName, camID, imgdir):\n",
    "        threading.Thread.__init__(self)\n",
    "        self.previewName = previewName\n",
    "        self.camID = camID\n",
    "        self.imgdir = imgdir\n",
    "    def run(self):\n",
    "        print(f\"Starting {self.previewName}\")\n",
    "        camPreview(self.previewName, self.camID, self.imgdir)\n",
    "        print(\"Hola\")"
   ]
  },
  {
   "cell_type": "code",
   "execution_count": 1,
   "metadata": {},
   "outputs": [
    {
     "ename": "NameError",
     "evalue": "name 'camThread' is not defined",
     "output_type": "error",
     "traceback": [
      "\u001b[1;31m---------------------------------------------------------------------------\u001b[0m",
      "\u001b[1;31mNameError\u001b[0m                                 Traceback (most recent call last)",
      "\u001b[1;32mc:\\Users\\Ari Salassa\\Documents\\stereo-vision-project\\Camera Calibration\\2 - image_stereo_capturing.ipynb Cell 8\u001b[0m in \u001b[0;36m<cell line: 2>\u001b[1;34m()\u001b[0m\n\u001b[0;32m      <a href='vscode-notebook-cell:/c%3A/Users/Ari%20Salassa/Documents/stereo-vision-project/Camera%20Calibration/2%20-%20image_stereo_capturing.ipynb#X11sZmlsZQ%3D%3D?line=0'>1</a>\u001b[0m \u001b[39m# thread1 = camThread(\"Camera LEFT\", indices[0], imgdir_l)\u001b[39;00m\n\u001b[1;32m----> <a href='vscode-notebook-cell:/c%3A/Users/Ari%20Salassa/Documents/stereo-vision-project/Camera%20Calibration/2%20-%20image_stereo_capturing.ipynb#X11sZmlsZQ%3D%3D?line=1'>2</a>\u001b[0m thread2 \u001b[39m=\u001b[39m camThread(\u001b[39m\"\u001b[39m\u001b[39mCamera RIGHT\u001b[39m\u001b[39m\"\u001b[39m, indices[\u001b[39m1\u001b[39m], imgdir_r)\n\u001b[0;32m      <a href='vscode-notebook-cell:/c%3A/Users/Ari%20Salassa/Documents/stereo-vision-project/Camera%20Calibration/2%20-%20image_stereo_capturing.ipynb#X11sZmlsZQ%3D%3D?line=2'>3</a>\u001b[0m thread1\u001b[39m.\u001b[39mstart()\n\u001b[0;32m      <a href='vscode-notebook-cell:/c%3A/Users/Ari%20Salassa/Documents/stereo-vision-project/Camera%20Calibration/2%20-%20image_stereo_capturing.ipynb#X11sZmlsZQ%3D%3D?line=3'>4</a>\u001b[0m thread2\u001b[39m.\u001b[39mstart()\n",
      "\u001b[1;31mNameError\u001b[0m: name 'camThread' is not defined"
     ]
    }
   ],
   "source": [
    "# thread1 = camThread(\"Camera LEFT\", indices[0], imgdir_l)\n",
    "thread2 = camThread(\"Camera RIGHT\", indices[1], imgdir_r)\n",
    "thread1.start()\n",
    "thread2.start()"
   ]
  },
  {
   "cell_type": "code",
   "execution_count": null,
   "metadata": {},
   "outputs": [],
   "source": [
    "img_counter = 0\n",
    "\n",
    "if not cap.isOpened():\n",
    "    print(\"Cannot open camera\")\n",
    "    exit()\n",
    "while True:\n",
    "    # Capture frame-by-frame\n",
    "    ret, frame = cap.read()\n",
    "    # if frame is read correctly ret is True\n",
    "    if not ret:\n",
    "        print(\"Can't receive frame (stream end?). Exiting ...\")\n",
    "        break\n",
    "    # Our operations on the frame come here\n",
    "    gray = cv2.cvtColor(frame, cv2.COLOR_BGR2GRAY)\n",
    "    if cv2.waitKey(1) == ord('q'):\n",
    "        break\n",
    "\n",
    "    # Display the resulting frame\n",
    "    cv2.imshow('frame', frame)\n",
    "    \n",
    "    if cv2.waitKey(1) == ord('s'):\n",
    "        print(f'saving{img_counter}.png')\n",
    "        cv2.imwrite(f\"{imgdir}{img_counter}.png\", frame)\n",
    "        img_counter = img_counter + 1\n",
    "    if cv2.waitKey(1) == ord('q'):\n",
    "        break\n",
    "\n",
    "        \n",
    "# When everything done, release the capture\n",
    "cap.release()\n",
    "cv2.destroyAllWindows()"
   ]
  },
  {
   "cell_type": "code",
   "execution_count": null,
   "metadata": {},
   "outputs": [],
   "source": []
  }
 ],
 "metadata": {
  "kernelspec": {
   "display_name": "Python 3.10.6 64-bit (system)",
   "language": "python",
   "name": "python3"
  },
  "language_info": {
   "codemirror_mode": {
    "name": "ipython",
    "version": 3
   },
   "file_extension": ".py",
   "mimetype": "text/x-python",
   "name": "python",
   "nbconvert_exporter": "python",
   "pygments_lexer": "ipython3",
   "version": "3.10.6"
  },
  "orig_nbformat": 4,
  "vscode": {
   "interpreter": {
    "hash": "eb485d6427027a2b86af7c8adc536ce68fd6853626550771255814d4d51a6288"
   }
  }
 },
 "nbformat": 4,
 "nbformat_minor": 2
}
