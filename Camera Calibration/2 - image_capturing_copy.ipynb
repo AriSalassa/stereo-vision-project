{
 "cells": [
  {
   "cell_type": "markdown",
   "metadata": {},
   "source": [
    "# Image capturing"
   ]
  },
  {
   "cell_type": "code",
   "execution_count": 1,
   "metadata": {},
   "outputs": [],
   "source": [
    "# import the opencv library\n",
    "import cv2\n",
    "import numpy as np\n",
    "import os"
   ]
  },
  {
   "cell_type": "code",
   "execution_count": 3,
   "metadata": {},
   "outputs": [
    {
     "name": "stdout",
     "output_type": "stream",
     "text": [
      "640 360\n"
     ]
    },
    {
     "name": "stderr",
     "output_type": "stream",
     "text": [
      "[ WARN:0@23.708] global /opt/conda/conda-bld/opencv-suite_1656606573658/work/modules/videoio/src/cap_gstreamer.cpp (862) isPipelinePlaying OpenCV | GStreamer warning: GStreamer: pipeline have not been created\n"
     ]
    }
   ],
   "source": [
    "# Check maximum resolution\n",
    "HIGH_VALUE = 10000\n",
    "WIDTH = HIGH_VALUE\n",
    "HEIGHT = HIGH_VALUE\n",
    "\n",
    "capture = cv2.VideoCapture(3)\n",
    "fourcc = cv2.VideoWriter_fourcc(*'XVID')\n",
    "capture.set(cv2.CAP_PROP_FRAME_WIDTH, WIDTH)\n",
    "capture.set(cv2.CAP_PROP_FRAME_HEIGHT, HEIGHT)\n",
    "width = int(capture.get(cv2.CAP_PROP_FRAME_WIDTH))\n",
    "height = int(capture.get(cv2.CAP_PROP_FRAME_HEIGHT))\n",
    "\n",
    "print(width,height)\n",
    "capture.release()\n",
    "# Check maximum resolution"
   ]
  },
  {
   "cell_type": "code",
   "execution_count": 8,
   "metadata": {},
   "outputs": [],
   "source": [
    "imgdir = \"./calib_cam_1/02_08/\"\n",
    "\n",
    "# Check whether the specified path exists or not\n",
    "isExist = os.path.exists(imgdir)\n",
    "\n",
    "if not isExist:\n",
    "  os.makedirs(imgdir)"
   ]
  },
  {
   "cell_type": "code",
   "execution_count": 3,
   "metadata": {},
   "outputs": [],
   "source": [
    "gts_launch_command_1 = \"gst-launch-1.0 v4l2src device=/dev/video0 ! video/x-raw, format=YUY2 ! videoconvert ! videoscale ! videorate ! video/x-raw,width=1920,height=1080,framerate=60/1 ! ximagesink -v\"\n",
    "gts_launch_command_2 = \"gst-launch-1.0 -v v4l2src device=/dev/video0 ! video/x-raw, format=YUY2 ! videoconvert ! video/x-raw, format=BGR ! appsink drop=1\""
   ]
  },
  {
   "cell_type": "code",
   "execution_count": 2,
   "metadata": {},
   "outputs": [
    {
     "name": "stderr",
     "output_type": "stream",
     "text": [
      "[ WARN:0@3.563] global /opt/conda/conda-bld/opencv-suite_1656606573658/work/modules/videoio/src/cap_gstreamer.cpp (862) isPipelinePlaying OpenCV | GStreamer warning: GStreamer: pipeline have not been created\n",
      "[ WARN:0@3.653] global /opt/conda/conda-bld/opencv-suite_1656606573658/work/modules/videoio/src/cap_gstreamer.cpp (862) isPipelinePlaying OpenCV | GStreamer warning: GStreamer: pipeline have not been created\n"
     ]
    }
   ],
   "source": [
    "use_gstreamer = False\n",
    "\n",
    "if use_gstreamer:\n",
    "    cap = cv2.VideoCapture(\"v4l2src device=/dev/video0 ! video/x-raw, format=YUY2 ! videoconvert ! video/x-raw, format=BGR ! appsink drop=1\")\n",
    "else:\n",
    "     cap_L = cv2.VideoCapture(0)\n",
    "     cap_R = cv2.VideoCapture(3)"
   ]
  },
  {
   "cell_type": "code",
   "execution_count": 3,
   "metadata": {},
   "outputs": [
    {
     "name": "stdout",
     "output_type": "stream",
     "text": [
      "L:True - R:False - Can't receive frame (stream end?). Exiting ...\n"
     ]
    }
   ],
   "source": [
    "img_counter = 0\n",
    "\n",
    "if not cap_L.isOpened() or not cap_R.isOpened():\n",
    "    print(\"Cannot open camera\")\n",
    "    exit()\n",
    "while True:\n",
    "    # Capture frame-by-frame\n",
    "    ret_L, frame_L = cap_L.read()\n",
    "    ret_R, frame_R = cap_R.read()\n",
    "    # if frame is read correctly ret is True\n",
    "    if not ret_L or not ret_R:\n",
    "        print(f\"L:{ret_L} - R:{ret_R} - Can't receive frame (stream end?). Exiting ...\")\n",
    "        break\n",
    "    # Our operations on the frame come here\n",
    "    # gray = cv2.cvtColor(frame, cv2.COLOR_BGR2GRAY)\n",
    "    if cv2.waitKey(1) == ord('q'):\n",
    "        break\n",
    "\n",
    "    # Display the resulting frame\n",
    "    cv2.imshow('frame', frame_L)\n",
    "    \n",
    "    if cv2.waitKey(1) == ord('s'):\n",
    "        print(f'saving{img_counter}.png')\n",
    "        cv2.imwrite(f\"{imgdir}{img_counter}.png\", frame_L)\n",
    "        img_counter = img_counter + 1\n",
    "    if cv2.waitKey(1) == ord('q'):\n",
    "        break\n",
    "\n",
    "        \n",
    "# When everything done, release the capture\n",
    "cap_R.release()\n",
    "cap_L.release()\n",
    "cv2.destroyAllWindows()"
   ]
  },
  {
   "cell_type": "code",
   "execution_count": null,
   "metadata": {},
   "outputs": [],
   "source": []
  }
 ],
 "metadata": {
  "kernelspec": {
   "display_name": "Python 3.10.4 ('stereo-vision')",
   "language": "python",
   "name": "python3"
  },
  "language_info": {
   "codemirror_mode": {
    "name": "ipython",
    "version": 3
   },
   "file_extension": ".py",
   "mimetype": "text/x-python",
   "name": "python",
   "nbconvert_exporter": "python",
   "pygments_lexer": "ipython3",
   "version": "3.10.4"
  },
  "orig_nbformat": 4,
  "vscode": {
   "interpreter": {
    "hash": "3b7a08846d4f9c4071fa9d7c59505ad882017f2780c08db9154b17b0c24d1b7b"
   }
  }
 },
 "nbformat": 4,
 "nbformat_minor": 2
}
