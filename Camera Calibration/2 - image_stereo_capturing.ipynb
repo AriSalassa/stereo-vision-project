{
 "cells": [
  {
   "cell_type": "markdown",
   "metadata": {},
   "source": [
    "# Image capturing"
   ]
  },
  {
   "cell_type": "code",
   "execution_count": 1,
   "metadata": {},
   "outputs": [],
   "source": [
    "# import the opencv library\n",
    "import cv2\n",
    "import numpy as np\n",
    "import os\n",
    "import threading"
   ]
  },
  {
   "cell_type": "code",
   "execution_count": 2,
   "metadata": {},
   "outputs": [
    {
     "name": "stderr",
     "output_type": "stream",
     "text": [
      "[ WARN:0@0.504] global /io/opencv/modules/videoio/src/cap_v4l.cpp (902) open VIDEOIO(V4L2:/dev/video1): can't open camera by index\n",
      "[ WARN:0@0.505] global /io/opencv/modules/videoio/src/cap_v4l.cpp (902) open VIDEOIO(V4L2:/dev/video2): can't open camera by index\n"
     ]
    },
    {
     "name": "stdout",
     "output_type": "stream",
     "text": [
      "Camera indexes: [0, 3]\n"
     ]
    },
    {
     "name": "stderr",
     "output_type": "stream",
     "text": [
      "[ WARN:0@0.947] global /io/opencv/modules/videoio/src/cap_v4l.cpp (902) open VIDEOIO(V4L2:/dev/video4): can't open camera by index\n",
      "[ WARN:0@0.947] global /io/opencv/modules/videoio/src/cap_v4l.cpp (902) open VIDEOIO(V4L2:/dev/video5): can't open camera by index\n",
      "[ WARN:0@0.947] global /io/opencv/modules/videoio/src/cap_v4l.cpp (902) open VIDEOIO(V4L2:/dev/video6): can't open camera by index\n",
      "[ WARN:0@0.948] global /io/opencv/modules/videoio/src/cap_v4l.cpp (902) open VIDEOIO(V4L2:/dev/video7): can't open camera by index\n",
      "[ WARN:0@0.948] global /io/opencv/modules/videoio/src/cap_v4l.cpp (902) open VIDEOIO(V4L2:/dev/video8): can't open camera by index\n",
      "[ WARN:0@0.948] global /io/opencv/modules/videoio/src/cap_v4l.cpp (902) open VIDEOIO(V4L2:/dev/video9): can't open camera by index\n"
     ]
    }
   ],
   "source": [
    "def returnCameraIndexes():\n",
    "    # checks the first 10 indexes.\n",
    "    index = 0\n",
    "    arr = []\n",
    "    i = 10\n",
    "    while i > 0:\n",
    "        cap = cv2.VideoCapture(index)\n",
    "        if cap.read()[0]:\n",
    "            arr.append(index)\n",
    "            cap.release()\n",
    "        index += 1\n",
    "        i -= 1\n",
    "    return arr\n",
    "\n",
    "indices = returnCameraIndexes()\n",
    "print(f\"Camera indexes: {indices}\")"
   ]
  },
  {
   "cell_type": "code",
   "execution_count": 3,
   "metadata": {},
   "outputs": [
    {
     "name": "stdout",
     "output_type": "stream",
     "text": [
      "Camera 0: 640,360\n",
      "Camera 1: 640,360\n"
     ]
    }
   ],
   "source": [
    "# Check maximum resolution\n",
    "HIGH_VALUE = 10000\n",
    "WIDTH = HIGH_VALUE\n",
    "HEIGHT = HIGH_VALUE\n",
    "\n",
    "capture = cv2.VideoCapture(0) # Left camera\n",
    "fourcc = cv2.VideoWriter_fourcc(*'XVID')\n",
    "capture.set(cv2.CAP_PROP_FRAME_WIDTH, WIDTH)\n",
    "capture.set(cv2.CAP_PROP_FRAME_HEIGHT, HEIGHT)\n",
    "width = int(capture.get(cv2.CAP_PROP_FRAME_WIDTH))\n",
    "height = int(capture.get(cv2.CAP_PROP_FRAME_HEIGHT))\n",
    "capture.release()\n",
    "\n",
    "print(f\"Camera 0: {width},{height}\")\n",
    "\n",
    "# Check maximum resolution\n",
    "HIGH_VALUE = 10000\n",
    "WIDTH = HIGH_VALUE\n",
    "HEIGHT = HIGH_VALUE\n",
    "\n",
    "capture = cv2.VideoCapture(3) # Right camera \n",
    "fourcc = cv2.VideoWriter_fourcc(*'XVID')\n",
    "capture.set(cv2.CAP_PROP_FRAME_WIDTH, WIDTH)\n",
    "capture.set(cv2.CAP_PROP_FRAME_HEIGHT, HEIGHT)\n",
    "width = int(capture.get(cv2.CAP_PROP_FRAME_WIDTH))\n",
    "height = int(capture.get(cv2.CAP_PROP_FRAME_HEIGHT))\n",
    "capture.release()\n",
    "\n",
    "print(f\"Camera 1: {width},{height}\")\n",
    "# Check maximum resolution"
   ]
  },
  {
   "cell_type": "code",
   "execution_count": 4,
   "metadata": {},
   "outputs": [],
   "source": [
    "imgdir_r = \"./calib_cam/right/\"\n",
    "\n",
    "# Check whether the specified path exists or not\n",
    "isExist = os.path.exists(imgdir_r)\n",
    "\n",
    "if not isExist:\n",
    "  os.makedirs(imgdir_r)\n",
    "\n",
    "imgdir_l = \"./calib_cam/left/\"\n",
    "\n",
    "# Check whether the specified path exists or not\n",
    "isExist = os.path.exists(imgdir_l)\n",
    "\n",
    "if not isExist:\n",
    "  os.makedirs(imgdir_l)"
   ]
  },
  {
   "cell_type": "code",
   "execution_count": 5,
   "metadata": {},
   "outputs": [],
   "source": [
    "def camPreview(previewName, camID, imgdir):\n",
    "    cv2.namedWindow(previewName)\n",
    "    cap = cv2.VideoCapture(camID)\n",
    "\n",
    "    img_counter = 0\n",
    "\n",
    "    # if not cap.isOpened():\n",
    "    #     print(\"Cannot open camera\")\n",
    "    #     exit()\n",
    "\n",
    "    if cap.isOpened():  # try to get the first frame\n",
    "        ret, frame = cap.read()\n",
    "    else:\n",
    "        ret = False\n",
    "\n",
    "    while ret:\n",
    "        # Display the resulting frame\n",
    "        cv2.imshow(previewName, frame)\n",
    "\n",
    "        # Capture frame-by-frame\n",
    "        ret, frame = cap.read()\n",
    "        \n",
    "        # if frame is read correctly ret is True\n",
    "        if not ret:\n",
    "            print(f\"Can't receive frame {camID} (stream end?). Exiting ...\")\n",
    "            break\n",
    "\n",
    "        if cv2.waitKey(1) == ord('q'):\n",
    "            break\n",
    "\n",
    "        if cv2.waitKey(1) == ord('s'):\n",
    "            print(f'Cam {camID} saving{img_counter}.png')\n",
    "            cv2.imwrite(f\"{imgdir}{img_counter}.png\", frame)\n",
    "            img_counter = img_counter + 1\n",
    "\n",
    "        if cv2.waitKey(1) == ord('q'):\n",
    "            break\n",
    "\n",
    "            \n",
    "    # When everything done, release the capture\n",
    "    cap.release()\n",
    "    cv2.destroyAllWindows()"
   ]
  },
  {
   "cell_type": "code",
   "execution_count": 6,
   "metadata": {},
   "outputs": [],
   "source": [
    "class camThread(threading.Thread):\n",
    "    def __init__(self, previewName, camID, imgdir):\n",
    "        threading.Thread.__init__(self)\n",
    "        self.previewName = previewName\n",
    "        self.camID = camID\n",
    "        self.imgdir = imgdir\n",
    "    def run(self):\n",
    "        print(f\"Starting {self.previewName}\")\n",
    "        camPreview(self.previewName, self.camID, self.imgdir)\n",
    "        print(\"Hola\")"
   ]
  },
  {
   "cell_type": "code",
   "execution_count": 7,
   "metadata": {},
   "outputs": [
    {
     "name": "stdout",
     "output_type": "stream",
     "text": [
      "Starting Camera LEFT\n",
      "Starting Camera RIGHT\n"
     ]
    },
    {
     "ename": "",
     "evalue": "",
     "output_type": "error",
     "traceback": [
      "The Kernel crashed while executing code in the the current cell or a previous cell. Please review the code in the cell(s) to identify a possible cause of the failure. Click <a href='https://aka.ms/vscodeJupyterKernelCrash'>here</a> for more info. View Jupyter <a href='command:jupyter.viewOutput'>log</a> for further details."
     ]
    }
   ],
   "source": [
    "thread1 = camThread(\"Camera LEFT\", indices[0], imgdir_l)\n",
    "thread2 = camThread(\"Camera RIGHT\", indices[1], imgdir_r)\n",
    "thread1.start()\n",
    "thread2.start()"
   ]
  },
  {
   "cell_type": "code",
   "execution_count": null,
   "metadata": {},
   "outputs": [],
   "source": [
    "img_counter = 0\n",
    "\n",
    "if not cap.isOpened():\n",
    "    print(\"Cannot open camera\")\n",
    "    exit()\n",
    "while True:\n",
    "    # Capture frame-by-frame\n",
    "    ret, frame = cap.read()\n",
    "    # if frame is read correctly ret is True\n",
    "    if not ret:\n",
    "        print(\"Can't receive frame (stream end?). Exiting ...\")\n",
    "        break\n",
    "    # Our operations on the frame come here\n",
    "    gray = cv2.cvtColor(frame, cv2.COLOR_BGR2GRAY)\n",
    "    if cv2.waitKey(1) == ord('q'):\n",
    "        break\n",
    "\n",
    "    # Display the resulting frame\n",
    "    cv2.imshow('frame', frame)\n",
    "    \n",
    "    if cv2.waitKey(1) == ord('s'):\n",
    "        print(f'saving{img_counter}.png')\n",
    "        cv2.imwrite(f\"{imgdir}{img_counter}.png\", frame)\n",
    "        img_counter = img_counter + 1\n",
    "    if cv2.waitKey(1) == ord('q'):\n",
    "        break\n",
    "\n",
    "        \n",
    "# When everything done, release the capture\n",
    "cap.release()\n",
    "cv2.destroyAllWindows()"
   ]
  },
  {
   "cell_type": "code",
   "execution_count": null,
   "metadata": {},
   "outputs": [],
   "source": []
  }
 ],
 "metadata": {
  "kernelspec": {
   "display_name": "Python 3.8.10 64-bit",
   "language": "python",
   "name": "python3"
  },
  "language_info": {
   "codemirror_mode": {
    "name": "ipython",
    "version": 3
   },
   "file_extension": ".py",
   "mimetype": "text/x-python",
   "name": "python",
   "nbconvert_exporter": "python",
   "pygments_lexer": "ipython3",
   "version": "3.8.10"
  },
  "orig_nbformat": 4,
  "vscode": {
   "interpreter": {
    "hash": "31f2aee4e71d21fbe5cf8b01ff0e069b9275f58929596ceb00d14d90e3e16cd6"
   }
  }
 },
 "nbformat": 4,
 "nbformat_minor": 2
}
