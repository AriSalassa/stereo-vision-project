{
 "cells": [
  {
   "cell_type": "markdown",
   "metadata": {},
   "source": [
    "# Image capturing"
   ]
  },
  {
   "cell_type": "code",
   "execution_count": 1,
   "metadata": {},
   "outputs": [],
   "source": [
    "# import the opencv library\n",
    "import cv2\n",
    "import numpy as np\n",
    "import os"
   ]
  },
  {
   "cell_type": "code",
   "execution_count": 2,
   "metadata": {},
   "outputs": [
    {
     "name": "stdout",
     "output_type": "stream",
     "text": [
      "Camera indexes: [0, 1]\n"
     ]
    }
   ],
   "source": [
    "def returnCameraIndexes():\n",
    "    # checks the first 10 indexes.\n",
    "    index = 0\n",
    "    arr = []\n",
    "    i = 10\n",
    "    while i > 0:\n",
    "        cap = cv2.VideoCapture(index)\n",
    "        if cap.read()[0]:\n",
    "            arr.append(index)\n",
    "            cap.release()\n",
    "        index += 1\n",
    "        i -= 1\n",
    "    return arr\n",
    "\n",
    "indices = returnCameraIndexes()\n",
    "print(f\"Camera indexes: {indices}\")"
   ]
  },
  {
   "cell_type": "code",
   "execution_count": 3,
   "metadata": {},
   "outputs": [
    {
     "name": "stdout",
     "output_type": "stream",
     "text": [
      "Camera 0: 1920,1080\n",
      "Camera 1: 1920,1080\n"
     ]
    }
   ],
   "source": [
    "# Check maximum resolution\n",
    "HIGH_VALUE = 10000\n",
    "WIDTH = HIGH_VALUE\n",
    "HEIGHT = HIGH_VALUE\n",
    "\n",
    "capture = cv2.VideoCapture(indices[0]) # Left camera\n",
    "fourcc = cv2.VideoWriter_fourcc(*'XVID')\n",
    "capture.set(cv2.CAP_PROP_FRAME_WIDTH, WIDTH)\n",
    "capture.set(cv2.CAP_PROP_FRAME_HEIGHT, HEIGHT)\n",
    "width = int(capture.get(cv2.CAP_PROP_FRAME_WIDTH))\n",
    "height = int(capture.get(cv2.CAP_PROP_FRAME_HEIGHT))\n",
    "capture.release()\n",
    "\n",
    "print(f\"Camera 0: {width},{height}\")\n",
    "\n",
    "# Check maximum resolution\n",
    "HIGH_VALUE = 10000\n",
    "WIDTH = HIGH_VALUE\n",
    "HEIGHT = HIGH_VALUE\n",
    "\n",
    "capture = cv2.VideoCapture(indices[1]) # Right camera \n",
    "fourcc = cv2.VideoWriter_fourcc(*'XVID')\n",
    "capture.set(cv2.CAP_PROP_FRAME_WIDTH, WIDTH)\n",
    "capture.set(cv2.CAP_PROP_FRAME_HEIGHT, HEIGHT)\n",
    "width = int(capture.get(cv2.CAP_PROP_FRAME_WIDTH))\n",
    "height = int(capture.get(cv2.CAP_PROP_FRAME_HEIGHT))\n",
    "capture.release()\n",
    "\n",
    "print(f\"Camera 1: {width},{height}\")\n",
    "# Check maximum resolution"
   ]
  },
  {
   "cell_type": "code",
   "execution_count": 4,
   "metadata": {},
   "outputs": [],
   "source": [
    "imgdir_r = \"./calib_cam/right/\"\n",
    "\n",
    "# Check whether the specified path exists or not\n",
    "isExist = os.path.exists(imgdir_r)\n",
    "\n",
    "if not isExist:\n",
    "  os.makedirs(imgdir_r)\n",
    "\n",
    "imgdir_l = \"./calib_cam/left/\"\n",
    "\n",
    "# Check whether the specified path exists or not\n",
    "isExist = os.path.exists(imgdir_l)\n",
    "\n",
    "if not isExist:\n",
    "  os.makedirs(imgdir_l)"
   ]
  },
  {
   "cell_type": "code",
   "execution_count": 5,
   "metadata": {},
   "outputs": [],
   "source": [
    "use_gstreamer = False\n",
    "\n",
    "if use_gstreamer:\n",
    "\tcap = cv2.VideoCapture(\"v4l2src device=/dev/video0 ! video/x-raw, format=YUY2 ! videoconvert ! video/x-raw, format=BGR ! appsink drop=1\")\n",
    "else:\n",
    "\tcap_L = cv2.VideoCapture(indices[1])\n",
    "\tcap_L.set(cv2.CAP_PROP_FRAME_WIDTH, WIDTH)\n",
    "\tcap_L.set(cv2.CAP_PROP_FRAME_HEIGHT, HEIGHT)\n",
    "\tcap_R = cv2.VideoCapture(indices[0])\n",
    "\tcap_R.set(cv2.CAP_PROP_FRAME_WIDTH, WIDTH)\n",
    "\tcap_R.set(cv2.CAP_PROP_FRAME_HEIGHT, HEIGHT)"
   ]
  },
  {
   "cell_type": "code",
   "execution_count": 6,
   "metadata": {},
   "outputs": [
    {
     "name": "stdout",
     "output_type": "stream",
     "text": [
      "saving0.png\n",
      "saving1.png\n",
      "saving2.png\n",
      "saving3.png\n",
      "saving4.png\n",
      "saving5.png\n",
      "saving6.png\n",
      "saving7.png\n",
      "saving8.png\n",
      "saving9.png\n",
      "saving10.png\n",
      "saving11.png\n",
      "saving12.png\n",
      "saving13.png\n",
      "saving14.png\n",
      "saving15.png\n",
      "saving16.png\n",
      "saving17.png\n",
      "saving18.png\n",
      "saving19.png\n",
      "saving20.png\n",
      "saving21.png\n",
      "saving22.png\n",
      "saving23.png\n",
      "saving24.png\n",
      "saving25.png\n",
      "saving26.png\n",
      "saving27.png\n",
      "saving28.png\n",
      "saving29.png\n",
      "saving30.png\n",
      "saving31.png\n",
      "saving32.png\n",
      "saving33.png\n",
      "saving34.png\n",
      "saving35.png\n",
      "saving36.png\n",
      "saving37.png\n",
      "saving38.png\n",
      "saving39.png\n",
      "saving40.png\n",
      "saving41.png\n",
      "saving42.png\n",
      "saving43.png\n",
      "saving44.png\n",
      "saving45.png\n"
     ]
    }
   ],
   "source": [
    "img_counter = 0\n",
    "\n",
    "if not cap_L.isOpened() or not cap_R.isOpened():\n",
    "    print(\"Cannot open camera\")\n",
    "    exit()\n",
    "while True:\n",
    "    # Capture frame-by-frame\n",
    "    ret_L, frame_L = cap_L.read()\n",
    "    ret_R, frame_R = cap_R.read()\n",
    "    # if frame is read correctly ret is True\n",
    "    if not ret_L or not ret_R:\n",
    "        print(f\"L:{ret_L} - R:{ret_R} - Can't receive frame (stream end?). Exiting ...\")\n",
    "        break\n",
    "\n",
    "    # Resize the image to view both in the monitor and capture more accurate frames\n",
    "    resized_frame_L = cv2.resize(frame_L, (640, 480), interpolation = cv2.INTER_AREA)\n",
    "    resized_frame_R = cv2.resize(frame_R, (640, 480), interpolation = cv2.INTER_AREA)\n",
    "    stereo_img = np.concatenate((resized_frame_L, resized_frame_R), axis=1)\n",
    "\n",
    "    # Display the resulting frame\n",
    "    cv2.imshow('Stereo', stereo_img)\n",
    "    \n",
    "    if cv2.waitKey(1) == ord('s'):\n",
    "        print(f'saving{img_counter}.png')\n",
    "        cv2.imwrite(f\"{imgdir_l}{img_counter}.png\", frame_L)\n",
    "        cv2.imwrite(f\"{imgdir_r}{img_counter}.png\", frame_R)\n",
    "        img_counter = img_counter + 1\n",
    "    \n",
    "    if cv2.waitKey(1) == ord('q'):\n",
    "        break\n",
    "\n",
    "        \n",
    "# When everything done, release the capture\n",
    "cap_R.release()\n",
    "cap_L.release()\n",
    "cv2.destroyAllWindows()"
   ]
  },
  {
   "cell_type": "code",
   "execution_count": null,
   "metadata": {},
   "outputs": [],
   "source": []
  }
 ],
 "metadata": {
  "kernelspec": {
   "display_name": "Python 3.10.6 64-bit (system)",
   "language": "python",
   "name": "python3"
  },
  "language_info": {
   "codemirror_mode": {
    "name": "ipython",
    "version": 3
   },
   "file_extension": ".py",
   "mimetype": "text/x-python",
   "name": "python",
   "nbconvert_exporter": "python",
   "pygments_lexer": "ipython3",
   "version": "3.10.6"
  },
  "orig_nbformat": 4,
  "vscode": {
   "interpreter": {
    "hash": "eb485d6427027a2b86af7c8adc536ce68fd6853626550771255814d4d51a6288"
   }
  }
 },
 "nbformat": 4,
 "nbformat_minor": 2
}
